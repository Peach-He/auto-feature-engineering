{
 "cells": [
  {
   "attachments": {},
   "cell_type": "markdown",
   "metadata": {},
   "source": [
    "# Auto Feature Engineering Workflow Demo"
   ]
  },
  {
   "attachments": {},
   "cell_type": "markdown",
   "metadata": {},
   "source": [
    "## Content\n",
    "\n",
    "* [1. Introduction](#1.-Introduction)\n",
    "* [2. Auto Feature Engineering workflow](#2.-Auto-Feature-Engineering-Workflow-Demo)\n",
    "* [3. AutoFE Deep Dive](#3.-AutoFE-Deep-dive)\n",
    "* [3.1 Profile](#3.1-Feature-Profiling)\n",
    "* [3.2 Pipeline Plot](#3.2-Pipeline-Plot)\n",
    "* [3.3 Feature Importance](#3.3-Feature-Importance)\n",
    "* [4. Model Training](#4.-Model-training)\n",
    "* [5. Performance](#)"
   ]
  },
  {
   "attachments": {},
   "cell_type": "markdown",
   "metadata": {},
   "source": [
    "## 1. Introduction"
   ]
  },
  {
   "attachments": {},
   "cell_type": "markdown",
   "metadata": {},
   "source": [
    "This AutoFE workflow demo shows how to leverage the Auto-Feature-Engineering toolkit (codename:RecDP) to automatically transform raw tabular data to a ready-to-train data with enriched usefull new features, while significantly improve developer productivity and end-to-end data prepration performance.\n",
    "<center><img src=\"recdp_autofe_overview.jpg\" width = \"800\" alt = 'recdp_autofe_overview'></center>"
   ]
  },
  {
   "attachments": {},
   "cell_type": "markdown",
   "metadata": {},
   "source": [
    "AutoFE workflows uses RecDP to: \n",
    "\n",
    "(1) Automatically profile the dataset, infer data type of each input columns  \n",
    "(2) Determines the proper feature engineering primitives with infered data type  \n",
    "(3) Generates data preparation pipelines with chained operators  \n",
    "(4) Generates DAG for operations  \n",
    "(5) Execute DAG on different engines  \n",
    "(6) Feature importance analsyis  "
   ]
  },
  {
   "attachments": {},
   "cell_type": "markdown",
   "metadata": {
    "tags": []
   },
   "source": [
    "## 2. Auto Feature Engineering Workflow Demo"
   ]
  },
  {
   "attachments": {},
   "cell_type": "markdown",
   "metadata": {
    "tags": []
   },
   "source": [
    "### Step 1: Configuration file \n",
    "To launch Auto Feature Engineering workflow, only required work is to edit `workflow.yaml`.\n",
    "Supported configurations are listed in table\n",
    "\n",
    "| Name            | Description   |\n",
    "| --------------- | ------------- |\n",
    "| dataset_path | set dataset directory |\n",
    "| target_label | specify target lable of dataset|\n",
    "| engine_type | config auto feature engineering engine type, support pandas and spark |"
   ]
  },
  {
   "cell_type": "code",
   "execution_count": null,
   "metadata": {
    "tags": []
   },
   "outputs": [],
   "source": [
    "!cat workflow.yaml"
   ]
  },
  {
   "attachments": {},
   "cell_type": "markdown",
   "metadata": {
    "tags": []
   },
   "source": [
    "### Step 2: Kick off AuoFE workflow "
   ]
  },
  {
   "attachments": {},
   "cell_type": "markdown",
   "metadata": {},
   "source": [
    "This toolkit provides Low code API, user only needs to use 3 lines of codes to launch Auto Feature Engineering to any input tabular data.\n",
    "\n",
    "AutoFE api will analyze dataset and its target label, create data pipeline automatically, and then use specified engine_type to transform data.\n",
    "\n",
    "You're expected to see transformed data displayed after codes completion."
   ]
  },
  {
   "cell_type": "code",
   "execution_count": null,
   "metadata": {
    "vscode": {
     "languageId": "plaintext"
    }
   },
   "outputs": [],
   "source": [
    "from pyrecdp.autofe import AutoFE\n",
    "\n",
    "pipeline = AutoFE(dataset=load_data(), label=target_label)\n",
    "pipeline.fit_transform(engine_type = engine_type)"
   ]
  },
  {
   "attachments": {},
   "cell_type": "markdown",
   "metadata": {},
   "source": [
    "## 3. AutoFE Deep dive "
   ]
  },
  {
   "attachments": {},
   "cell_type": "markdown",
   "metadata": {},
   "source": [
    "In below section, you'll see advanced interfaces provided by AutoFE pipeline. So you will be able to custom auto generated pipeline EDA report of original data.\n",
    "\n",
    "* To view the EDA profiling of original data.\n",
    "``` python\n",
    "pipeline.profile(engine_type)\n",
    "```\n",
    "\n",
    "* To view generated data pipeline and customize data pipeline.\n",
    "``` python\n",
    "pipeline.plot()\n",
    "```\n",
    "\n",
    "* To view feature importance result.\n",
    "``` python\n",
    "pipeline.feature_importance()\n",
    "```"
   ]
  },
  {
   "attachments": {},
   "cell_type": "markdown",
   "metadata": {
    "tags": []
   },
   "source": [
    "### 3.1 Feature Profiling\n",
    "AutoFE provides feature profiler to analyze the feature distribution and identify insights of feature."
   ]
  },
  {
   "cell_type": "code",
   "execution_count": null,
   "metadata": {},
   "outputs": [],
   "source": [
    "pipeline.profile(engine_type)"
   ]
  },
  {
   "attachments": {},
   "cell_type": "markdown",
   "metadata": {},
   "source": [
    "## 3.2 Pipeline Plot"
   ]
  },
  {
   "attachments": {},
   "cell_type": "markdown",
   "metadata": {},
   "source": [
    "view or modify pipeline is supported\n",
    "\n",
    "* view pipeline\n",
    "```\n",
    "pipeline.plot()\n",
    "```\n",
    "\n",
    "* add new operation to pipeline\n",
    "\n",
    "``` python\n",
    "def gussian_calulation(df):\n",
    "    df = apply_gussian(df, columns= ['col_1'])\n",
    "    return df\n",
    "\n",
    "pipeline.add_operation(gussian_calulation)\n",
    "```\n",
    "\n",
    "* remove unwanted operation from pipeline\n",
    "\n",
    "``` python\n",
    "pipeline.delete_operation(id = 6)\n",
    "```"
   ]
  },
  {
   "cell_type": "code",
   "execution_count": null,
   "metadata": {},
   "outputs": [],
   "source": [
    "pipeline.plot()"
   ]
  },
  {
   "attachments": {},
   "cell_type": "markdown",
   "metadata": {},
   "source": [
    "## 3.3 Feature Importance"
   ]
  },
  {
   "attachments": {},
   "cell_type": "markdown",
   "metadata": {},
   "source": [
    "We provided feature estimators to analyze transformed data, and do feature reduction in case autoFE generated unuseful features."
   ]
  },
  {
   "cell_type": "code",
   "execution_count": null,
   "metadata": {
    "tags": []
   },
   "outputs": [],
   "source": [
    "pipeline.feature_importance()"
   ]
  },
  {
   "attachments": {},
   "cell_type": "markdown",
   "metadata": {
    "tags": []
   },
   "source": [
    "## 4. Model training"
   ]
  },
  {
   "attachments": {},
   "cell_type": "markdown",
   "metadata": {},
   "source": [
    "Now, autoFE is completed, let's achieve transformed data and fit it to your own model."
   ]
  },
  {
   "cell_type": "code",
   "execution_count": null,
   "metadata": {
    "tags": []
   },
   "outputs": [],
   "source": [
    "transformed_data = pipeline.get_transformed_data()"
   ]
  }
 ],
 "metadata": {
  "kernelspec": {
   "display_name": "Python 3 (ipykernel)",
   "language": "python",
   "name": "python3"
  },
  "language_info": {
   "codemirror_mode": {
    "name": "ipython",
    "version": 3
   },
   "file_extension": ".py",
   "mimetype": "text/x-python",
   "name": "python",
   "nbconvert_exporter": "python",
   "pygments_lexer": "ipython3",
   "version": "3.8.10"
  }
 },
 "nbformat": 4,
 "nbformat_minor": 4
}
